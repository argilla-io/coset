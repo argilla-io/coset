{
 "cells": [
  {
   "cell_type": "code",
   "execution_count": 1,
   "metadata": {
    "collapsed": true
   },
   "outputs": [],
   "source": [
    "from torchtext import data"
   ]
  },
  {
   "cell_type": "code",
   "execution_count": 2,
   "metadata": {
    "collapsed": false
   },
   "outputs": [],
   "source": [
    "DATASET_PATH = '/Users/oeg/dev/recognai/data/datasets/cosetdata/'\n",
    "\n",
    "# Primero definimos los campos del dataset de entrenamiento\n",
    "twitter_id = data.Field()\n",
    "text = data.Field()\n",
    "label = data.Field(use_vocab=False, sequential=False)\n",
    "\n",
    "train = data.TabularDataset(path= DATASET_PATH + 'coset-train.csv', \n",
    "                            format='csv', \n",
    "                            fields= [('id', twitter_id), ('text', text),('label',label)]\n",
    "                           )\n"
   ]
  },
  {
   "cell_type": "code",
   "execution_count": 7,
   "metadata": {
    "collapsed": false
   },
   "outputs": [
    {
     "name": "stdout",
     "output_type": "stream",
     "text": [
      "0 text\n",
      "1 RT @elmundoes: El humor de Rajoy, a toro pasado 👓👓👓 https://t.co/Ul58uIw3ix\n",
      "2  pero me dicen que ya las han encontrado 😂😂 https://t.co/zxBXlm1xFD\"\n",
      "3 #L6Ncallerajoy Que diga Rajoy por qué se han tenido que marchar de España los que han querido trabajador por un sueldo digno.\n",
      "4 RT @Mhemeroteca: Hola @marianorajoy\n",
      "5 3%. Ahora es del 99\n",
      "6 2\n",
      "7 RT @mariangelespah: #encasadeelisa Sin voluntad política no hay solucion con #Las5delaPAH si y el @PPopular no las apoya. https://t.co/OEmW…\n",
      "8 RT @PaulyFerrero: Daniel Rivera y Tomy Aguero😀\n",
      "9 RT @H_Madera_: @SiNoToca yo prefiero pensar que @ahorapodemos nos hizo un simpático homenaje\n",
      "10 RT @PPopular: Democracia, libertad y DDHH, lo quiero para España y lo quiero para los venezolanos @MarianoRajoy #L6NcalleRajoy https://t.co…\n",
      "11 RT @gataamarilla1: El PP presenta por Guadalajara a un candidato con siete imputaciones por prevaricación https://t.co/kxSVuNCvpZ vía @peri…\n",
      "12 RT @jassawani: @orcos21528 @VeneIdeal una familia fortalecida en valores contribuirá con mejores ciudadanos para una mejor sociedad, tan ne…\n",
      "13 RT @vesteve3: #CarlosBarraGalán \"hagamos posible que el #20D se produzca esa insurrección ética que España necesita\" https://t.co/TozutLcqr…\n",
      "14 RT @Txus_46_93: Si Pedro Sánchez permite la investidura de Mariano Rajoy, será la confirmación definitiva de que Pablo Iglesias t... https:…\n",
      "15 RT @PodemosToledo: 13/12/15 19:00h @Pablo_Iglesias_ en el Palacio de Congresos de Toledo. \n"
     ]
    },
    {
     "ename": "AttributeError",
     "evalue": "'Example' object has no attribute 'text'",
     "output_type": "error",
     "traceback": [
      "\u001b[0;31m---------------------------------------------------------------------------\u001b[0m",
      "\u001b[0;31mAttributeError\u001b[0m                            Traceback (most recent call last)",
      "\u001b[0;32m<ipython-input-7-0879500e71c7>\u001b[0m in \u001b[0;36m<module>\u001b[0;34m()\u001b[0m\n\u001b[1;32m      1\u001b[0m \u001b[0;32mfor\u001b[0m \u001b[0mi\u001b[0m\u001b[0;34m,\u001b[0m \u001b[0me\u001b[0m \u001b[0;32min\u001b[0m \u001b[0menumerate\u001b[0m\u001b[0;34m(\u001b[0m\u001b[0mtrain\u001b[0m\u001b[0;34m.\u001b[0m\u001b[0mexamples\u001b[0m\u001b[0;34m)\u001b[0m\u001b[0;34m:\u001b[0m\u001b[0;34m\u001b[0m\u001b[0m\n\u001b[0;32m----> 2\u001b[0;31m     \u001b[0mprint\u001b[0m\u001b[0;34m(\u001b[0m\u001b[0mi\u001b[0m\u001b[0;34m,\u001b[0m \u001b[0me\u001b[0m\u001b[0;34m.\u001b[0m\u001b[0mtext\u001b[0m\u001b[0;34m)\u001b[0m\u001b[0;34m\u001b[0m\u001b[0m\n\u001b[0m\u001b[1;32m      3\u001b[0m \u001b[0;34m\u001b[0m\u001b[0m\n",
      "\u001b[0;31mAttributeError\u001b[0m: 'Example' object has no attribute 'text'"
     ]
    }
   ],
   "source": [
    "for i, e in enumerate(train.examples):\n",
    "    print(i, e.text)\n",
    "    "
   ]
  },
  {
   "cell_type": "code",
   "execution_count": 32,
   "metadata": {
    "collapsed": false
   },
   "outputs": [
    {
     "data": {
      "text/plain": [
       "defaultdict(<function torchtext.vocab.Vocab.__init__.<locals>.<lambda>>,\n",
       "            {'<pad>': 1})"
      ]
     },
     "execution_count": 32,
     "metadata": {},
     "output_type": "execute_result"
    }
   ],
   "source": []
  },
  {
   "cell_type": "code",
   "execution_count": 21,
   "metadata": {
    "collapsed": false
   },
   "outputs": [
    {
     "data": {
      "text/plain": [
       "2"
      ]
     },
     "execution_count": 21,
     "metadata": {},
     "output_type": "execute_result"
    }
   ],
   "source": []
  },
  {
   "cell_type": "code",
   "execution_count": null,
   "metadata": {
    "collapsed": true
   },
   "outputs": [],
   "source": []
  }
 ],
 "metadata": {
  "kernelspec": {
   "display_name": "Python 3",
   "language": "python",
   "name": "python3"
  },
  "language_info": {
   "codemirror_mode": {
    "name": "ipython",
    "version": 3
   },
   "file_extension": ".py",
   "mimetype": "text/x-python",
   "name": "python",
   "nbconvert_exporter": "python",
   "pygments_lexer": "ipython3",
   "version": "3.6.0"
  }
 },
 "nbformat": 4,
 "nbformat_minor": 2
}
